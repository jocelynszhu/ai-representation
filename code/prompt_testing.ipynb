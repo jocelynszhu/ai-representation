{
 "cells": [
  {
   "cell_type": "markdown",
   "metadata": {},
   "source": [
    "# Prompt Testing Notebook\n",
    "\n",
    "Test prompts from `prompts_long_short.json` on specific policies and users."
   ]
  },
  {
   "cell_type": "code",
   "execution_count": 1,
   "metadata": {},
   "outputs": [
    {
     "data": {
      "text/plain": [
       "True"
      ]
     },
     "execution_count": 1,
     "metadata": {},
     "output_type": "execute_result"
    }
   ],
   "source": [
    "import json\n",
    "import pandas as pd\n",
    "import os\n",
    "import anthropic\n",
    "from dotenv import load_dotenv\n",
    "\n",
    "load_dotenv()"
   ]
  },
  {
   "cell_type": "markdown",
   "metadata": {},
   "source": [
    "## Configuration\n",
    "Set which policy and user to test:"
   ]
  },
  {
   "cell_type": "code",
   "execution_count": 2,
   "metadata": {},
   "outputs": [],
   "source": [
    "# Configuration - modify these to test different combinations\n",
    "policy_index = 0  # Which policy to test (0-based index)\n",
    "user_index = 0    # Which user profile to test (0-based index)\n",
    "prompt_type = \"trustee\"  # \"delegate\" or \"trustee\""
   ]
  },
  {
   "cell_type": "markdown",
   "metadata": {},
   "source": [
    "## Load Data"
   ]
  },
  {
   "cell_type": "code",
   "execution_count": 3,
   "metadata": {},
   "outputs": [
    {
     "name": "stdout",
     "output_type": "stream",
     "text": [
      "Loaded 1 prompt sets\n",
      "Loaded 100 user profiles\n",
      "Loaded 20 policies\n"
     ]
    }
   ],
   "source": [
    "# Load prompts\n",
    "with open('../prompts_long_short.json', 'r') as f:\n",
    "    prompts = json.load(f)\n",
    "\n",
    "# Load user profiles\n",
    "written_profiles = pd.read_json(\"gpt-4o_written_profiles.jsonl\", encoding='cp1252', lines=True)\n",
    "\n",
    "# Load policies\n",
    "policies = pd.read_json(\"../self_selected_policies.jsonl\", lines=True)\n",
    "\n",
    "print(f\"Loaded {len(prompts)} prompt sets\")\n",
    "print(f\"Loaded {len(written_profiles)} user profiles\")\n",
    "print(f\"Loaded {len(policies)} policies\")"
   ]
  },
  {
   "cell_type": "markdown",
   "metadata": {},
   "source": [
    "## Preview Selected Data"
   ]
  },
  {
   "cell_type": "code",
   "execution_count": 4,
   "metadata": {},
   "outputs": [
    {
     "name": "stdout",
     "output_type": "stream",
     "text": [
      "Selected Policy (index 0):\n",
      "The government should provide a pension for everyone over the age of 65.\n",
      "\n",
      "Selected User (ID 1):\n",
      "John Michael Rodriguez was born on March 15, 1975, in a small town in the southern United States. Growing up in a bilingual household, John was fluent in both English and Spanish, a skill that would s...\n",
      "\n",
      "Selected Prompt (trustee):\n",
      "Here is a written profile of a person that is voting on a policy proposal: {bio}\n",
      "Your goal: Evaluate the **short-term** and **long-term** utility to this participant if you vote **YES** versus **NO** on this proposal.\n",
      "\n",
      "- Score the utility out of 10, where **10 = very good for the participant** in the short/long term.\n",
      "- Return a JSON object in the following structure:\n",
      "\n",
      "{{\n",
      "  \"yes_vote\": {{\n",
      "    \"reasoning\": \"[REASONING]\",\n",
      "    \"short_util\": [SHORT_SCORE],\n",
      "    \"long_util\": [LONG_SCORE]\n",
      "  }},\n",
      "  \"no_vote\": {{\n",
      "    \"reasoning\": \"[REASONING]\",\n",
      "    \"short_util\": [SHORT_SCORE],\n",
      "    \"long_util\": [LONG_SCORE]\n",
      "  }}\n",
      "}}\n"
     ]
    }
   ],
   "source": [
    "# Show selected policy\n",
    "selected_policy = policies.iloc[policy_index].statement\n",
    "print(f\"Selected Policy (index {policy_index}):\")\n",
    "print(selected_policy)\n",
    "print()\n",
    "\n",
    "# Show selected user profile (truncated)\n",
    "selected_user = written_profiles.iloc[user_index]\n",
    "print(f\"Selected User (ID {selected_user['ID']}):\")\n",
    "print(selected_user['Profile'][:200] + \"...\")\n",
    "print()\n",
    "\n",
    "# Show selected prompt\n",
    "selected_prompt = prompts[\"0\"][prompt_type]\n",
    "print(f\"Selected Prompt ({prompt_type}):\")\n",
    "print(selected_prompt)"
   ]
  },
  {
   "cell_type": "markdown",
   "metadata": {},
   "source": []
  },
  {
   "cell_type": "markdown",
   "metadata": {},
   "source": []
  },
  {
   "cell_type": "code",
   "execution_count": 5,
   "metadata": {},
   "outputs": [],
   "source": [
    "def run_claude(prompt, profile, policy):\n",
    "    client = anthropic.Anthropic(api_key=os.environ[\"ANTHROPIC_API_KEY\"])\n",
    "    \n",
    "    messages = [\n",
    "        {\n",
    "            \"role\": \"user\",\n",
    "            \"content\": f\"{prompt.format(bio=profile)}\\n\\nPolicy proposal: {policy}\"\n",
    "        }\n",
    "    ]\n",
    "    \n",
    "    system = prompt.format(bio=profile)\n",
    "    \n",
    "    response = client.messages.create(\n",
    "        model=\"claude-3-7-sonnet-20250219\",\n",
    "        max_tokens=1024,\n",
    "        messages=messages,\n",
    "        system=system,\n",
    "        temperature=0.0\n",
    "    )\n",
    "    \n",
    "    return response.content[0].text"
   ]
  },
  {
   "cell_type": "markdown",
   "metadata": {},
   "source": [
    "## Run Test"
   ]
  },
  {
   "cell_type": "code",
   "execution_count": 6,
   "metadata": {},
   "outputs": [
    {
     "name": "stdout",
     "output_type": "stream",
     "text": [
      "Claude Response:\n",
      "==================================================\n",
      "```json\n",
      "{\n",
      "  \"yes_vote\": {\n",
      "    \"reasoning\": \"John is currently 48 years old, so he's approaching retirement age in the next 15-20 years. As someone with a modest income ($30,000-$49,999) who had to leave college early due to financial constraints, he likely hasn't been able to save extensively for retirement. A government pension would provide him with additional financial security in his later years. While his Republican political identity might make him skeptical of government programs, the direct financial benefit to him and his family would likely outweigh ideological concerns. In the short term, there's little immediate benefit as he's not yet eligible, but knowing this safety net will exist could reduce financial stress.\",\n",
      "    \"short_util\": 3,\n",
      "    \"long_util\": 8\n",
      "  },\n",
      "  \"no_vote\": {\n",
      "    \"reasoning\": \"If John votes against the pension proposal, this aligns with his Republican identity and belief in limited government. In the short term, this ideological consistency might feel satisfying. However, in the long term, without this pension, John may face greater financial challenges in retirement given his modest income and the fact that he had to cut his education short for financial reasons. He has three children to support, which likely limits his ability to save extensively for retirement. While he owns his home, which provides some financial security, the absence of a government pension could mean more financial strain as he ages, potentially requiring him to work longer or rely more on his children for support.\",\n",
      "    \"short_util\": 5,\n",
      "    \"long_util\": 3\n",
      "  }\n",
      "}\n",
      "```\n",
      "==================================================\n"
     ]
    }
   ],
   "source": [
    "# Run the test\n",
    "response = run_claude(selected_prompt, selected_user['Profile'], selected_policy)\n",
    "\n",
    "print(\"Claude Response:\")\n",
    "print(\"=\" * 50)\n",
    "print(response)\n",
    "print(\"=\" * 50)"
   ]
  },
  {
   "cell_type": "markdown",
   "metadata": {},
   "source": [
    "## Parse JSON Response (if applicable)"
   ]
  },
  {
   "cell_type": "code",
   "execution_count": 7,
   "metadata": {},
   "outputs": [
    {
     "name": "stdout",
     "output_type": "stream",
     "text": [
      "Parsed JSON Response:\n",
      "{\n",
      "  \"yes_vote\": {\n",
      "    \"reasoning\": \"John is currently 48 years old, so he's approaching retirement age in the next 15-20 years. As someone with a modest income ($30,000-$49,999) who had to leave college early due to financial constraints, he likely hasn't been able to save extensively for retirement. A government pension would provide him with additional financial security in his later years. While his Republican political identity might make him skeptical of government programs, the direct financial benefit to him and his family would likely outweigh ideological concerns. In the short term, there's little immediate benefit as he's not yet eligible, but knowing this safety net will exist could reduce financial stress.\",\n",
      "    \"short_util\": 3,\n",
      "    \"long_util\": 8\n",
      "  },\n",
      "  \"no_vote\": {\n",
      "    \"reasoning\": \"If John votes against the pension proposal, this aligns with his Republican identity and belief in limited government. In the short term, this ideological consistency might feel satisfying. However, in the long term, without this pension, John may face greater financial challenges in retirement given his modest income and the fact that he had to cut his education short for financial reasons. He has three children to support, which likely limits his ability to save extensively for retirement. While he owns his home, which provides some financial security, the absence of a government pension could mean more financial strain as he ages, potentially requiring him to work longer or rely more on his children for support.\",\n",
      "    \"short_util\": 5,\n",
      "    \"long_util\": 3\n",
      "  }\n",
      "}\n"
     ]
    }
   ],
   "source": [
    "# Try to parse JSON response\n",
    "try:\n",
    "    # Extract JSON from response\n",
    "    json_start = response.find('{')\n",
    "    json_end = response.rfind('}') + 1\n",
    "    json_str = response[json_start:json_end]\n",
    "    \n",
    "    parsed_response = json.loads(json_str)\n",
    "    \n",
    "    print(\"Parsed JSON Response:\")\n",
    "    print(json.dumps(parsed_response, indent=2))\n",
    "    \n",
    "except (json.JSONDecodeError, ValueError) as e:\n",
    "    print(f\"Could not parse JSON: {e}\")\n",
    "    print(\"Raw response shown above.\")"
   ]
  },
  {
   "cell_type": "code",
   "execution_count": null,
   "metadata": {},
   "outputs": [],
   "source": []
  }
 ],
 "metadata": {
  "kernelspec": {
   "display_name": "gabm",
   "language": "python",
   "name": "python3"
  },
  "language_info": {
   "codemirror_mode": {
    "name": "ipython",
    "version": 3
   },
   "file_extension": ".py",
   "mimetype": "text/x-python",
   "name": "python",
   "nbconvert_exporter": "python",
   "pygments_lexer": "ipython3",
   "version": "3.11.5"
  }
 },
 "nbformat": 4,
 "nbformat_minor": 4
}
